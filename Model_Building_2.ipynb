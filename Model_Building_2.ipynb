{
 "cells": [
  {
   "cell_type": "markdown",
   "metadata": {},
   "source": [
    "# ISI SPRING 2019 RESEARCH PROJECT \n",
    "* By: Huy Nghiem\n",
    "* Assingment for the spam classifcation project for the USC MINDS research group.\n",
    "* TASK: Classify whether e-mails are spams or not and produce metrics for model performance. \n",
    "* In this module, we explore more advance Machine Learning techniques, __Support Vector Machine__ and __Random Forest__ for the same task.\n",
    "We aim to see whether these modules do better in terms of __False Positives Rate__ and __False Negative Rate__ , and of course regular metrics. "
   ]
  },
  {
   "cell_type": "code",
   "execution_count": 1,
   "metadata": {},
   "outputs": [],
   "source": [
    "import pandas as pd\n",
    "import numpy as np \n",
    "import matplotlib.pyplot as plt\n",
    "import seaborn as sns\n",
    "import os\n",
    "from sklearn.model_selection import train_test_split\n",
    "%load_ext autoreload\n",
    "%matplotlib inline"
   ]
  },
  {
   "cell_type": "code",
   "execution_count": 2,
   "metadata": {
    "scrolled": true
   },
   "outputs": [
    {
     "name": "stdout",
     "output_type": "stream",
     "text": [
      "(4601, 58)\n"
     ]
    }
   ],
   "source": [
    "df = pd.read_csv(\"spambase.data\", header=None)\n",
    "print(df.shape)\n",
    "feat = df.loc[:,:56].values #Must convert to np array for later use\n",
    "label = df.loc[:,57].values"
   ]
  },
  {
   "cell_type": "markdown",
   "metadata": {},
   "source": [
    "## Training, Valdiation and Testing\n",
    "In the LR module, simple cross validation was used to produce average statistics. \n",
    "\n",
    "In this module, we go one step further by first splitting the data into training and testing set. This test set is considered a black box, where its function is really just to be a basis for model evaluation. \n",
    "The models to be used require tuning for hyperparameters, a process to be done on validation set(s)."
   ]
  },
  {
   "cell_type": "code",
   "execution_count": 3,
   "metadata": {
    "scrolled": true
   },
   "outputs": [
    {
     "name": "stdout",
     "output_type": "stream",
     "text": [
      "(3220, 57) (3220,)\n",
      "(1381, 57) (1381,)\n"
     ]
    }
   ],
   "source": [
    "from sklearn.decomposition import PCA\n",
    "x_train, x_test, y_train, y_test = train_test_split(feat,label,test_size=0.3)\n",
    "print(x_train.shape, y_train.shape)\n",
    "print(x_test.shape, y_test.shape)"
   ]
  },
  {
   "cell_type": "markdown",
   "metadata": {},
   "source": [
    "## RANDOM FOREST\n",
    "Random Forest model predicts labels by combining the votes of random classification trees. RF is robust to deal with multi-collinearity compared to LR."
   ]
  },
  {
   "cell_type": "code",
   "execution_count": 4,
   "metadata": {},
   "outputs": [],
   "source": [
    "from sklearn.ensemble import RandomForestClassifier\n",
    "from sklearn.model_selection import KFold\n",
    "from sklearn.model_selection import GridSearchCV\n",
    "from sklearn.metrics import precision_recall_curve"
   ]
  },
  {
   "cell_type": "code",
   "execution_count": 5,
   "metadata": {
    "scrolled": true
   },
   "outputs": [
    {
     "data": {
      "text/plain": [
       "GridSearchCV(cv=5, error_score='raise-deprecating',\n",
       "       estimator=RandomForestClassifier(bootstrap=True, class_weight=None, criterion='gini',\n",
       "            max_depth=None, max_features='auto', max_leaf_nodes=None,\n",
       "            min_impurity_decrease=0.0, min_impurity_split=None,\n",
       "            min_samples_leaf=1, min_samples_split=2,\n",
       "            min_weight_fraction_leaf=0.0, n_estimators='warn', n_jobs=None,\n",
       "            oob_score=False, random_state=None, verbose=0,\n",
       "            warm_start=False),\n",
       "       fit_params=None, iid='warn', n_jobs=None,\n",
       "       param_grid={'n_estimators': [20, 50, 75]}, pre_dispatch='2*n_jobs',\n",
       "       refit=True, return_train_score='warn', scoring=None, verbose=0)"
      ]
     },
     "execution_count": 5,
     "metadata": {},
     "output_type": "execute_result"
    }
   ],
   "source": [
    "rf = RandomForestClassifier()\n",
    "#This dictionary is a list of estimators in a tree to search\n",
    "params_rf =  {'n_estimators':[20,50,75]}\n",
    "\n",
    "rf_gs = GridSearchCV(rf, params_rf, cv=5)\n",
    "rf_gs.fit(x_train,y_train)"
   ]
  },
  {
   "cell_type": "code",
   "execution_count": 6,
   "metadata": {},
   "outputs": [],
   "source": [
    "import warnings\n",
    "with warnings.catch_warnings():\n",
    "    warnings.filterwarnings(\"ignore\")\n",
    "    rf_best_params = rf_gs.best_estimator_"
   ]
  },
  {
   "cell_type": "markdown",
   "metadata": {},
   "source": [
    "Grid Search uses cross-validation to find the best hyperparameters.\n",
    "The result is posted below."
   ]
  },
  {
   "cell_type": "code",
   "execution_count": 7,
   "metadata": {},
   "outputs": [
    {
     "data": {
      "text/plain": [
       "RandomForestClassifier(bootstrap=True, class_weight=None, criterion='gini',\n",
       "            max_depth=None, max_features='auto', max_leaf_nodes=None,\n",
       "            min_impurity_decrease=0.0, min_impurity_split=None,\n",
       "            min_samples_leaf=1, min_samples_split=2,\n",
       "            min_weight_fraction_leaf=0.0, n_estimators=50, n_jobs=None,\n",
       "            oob_score=False, random_state=None, verbose=0,\n",
       "            warm_start=False)"
      ]
     },
     "execution_count": 7,
     "metadata": {},
     "output_type": "execute_result"
    }
   ],
   "source": [
    "rf_best_params"
   ]
  },
  {
   "cell_type": "code",
   "execution_count": 8,
   "metadata": {},
   "outputs": [],
   "source": [
    "train_y_pred = rf_gs.predict(x_train)\n",
    "test_y_pred = rf_gs.predict(x_test)\n",
    "test_y_prob = rf_gs.predict_proba(x_test)"
   ]
  },
  {
   "cell_type": "markdown",
   "metadata": {},
   "source": [
    "### Model Evaluation"
   ]
  },
  {
   "cell_type": "code",
   "execution_count": 9,
   "metadata": {},
   "outputs": [],
   "source": [
    "from sklearn.metrics import confusion_matrix, roc_auc_score, roc_curve\n",
    "from sklearn.metrics import classification_report, accuracy_score"
   ]
  },
  {
   "cell_type": "code",
   "execution_count": 10,
   "metadata": {},
   "outputs": [],
   "source": [
    "train_acc = round(rf_gs.score(x_train,y_train)*100,2)\n",
    "test_acc = round(rf_gs.score(x_test,y_test)*100,2)\n",
    "tn, fp, fn, tp = confusion_matrix(y_test, test_y_pred).ravel()"
   ]
  },
  {
   "cell_type": "code",
   "execution_count": 11,
   "metadata": {},
   "outputs": [
    {
     "name": "stdout",
     "output_type": "stream",
     "text": [
      "Training Accuracy is 99.88 %, Testing Accuracy is 95.73 %\n"
     ]
    }
   ],
   "source": [
    "print(\"Training Accuracy is {} %, Testing Accuracy is {} %\".format(train_acc,test_acc))"
   ]
  },
  {
   "cell_type": "code",
   "execution_count": 12,
   "metadata": {},
   "outputs": [
    {
     "name": "stdout",
     "output_type": "stream",
     "text": [
      "TN:816, FP:21, FN:38, TP:506\n",
      "FPR: 0.03, FNR: 0.07\n"
     ]
    }
   ],
   "source": [
    "print(\"TN:%s, FP:%s, FN:%s, TP:%s\" % (tn,fp,fn,tp))\n",
    "print(\"FPR: {}, FNR: {}\".format(round(fp/(fp+tn),2),round(fn/(fn+tp),2)))"
   ]
  },
  {
   "cell_type": "code",
   "execution_count": 13,
   "metadata": {},
   "outputs": [
    {
     "name": "stdout",
     "output_type": "stream",
     "text": [
      "              precision    recall  f1-score   support\n",
      "\n",
      "           0       0.96      0.97      0.97       837\n",
      "           1       0.96      0.93      0.94       544\n",
      "\n",
      "   micro avg       0.96      0.96      0.96      1381\n",
      "   macro avg       0.96      0.95      0.96      1381\n",
      "weighted avg       0.96      0.96      0.96      1381\n",
      "\n"
     ]
    }
   ],
   "source": [
    "print(classification_report(y_test, test_y_pred))"
   ]
  },
  {
   "cell_type": "markdown",
   "metadata": {},
   "source": [
    "The classificatin report and FPR calcuclated are identical, giving us futher \n",
    "validation that our calculations are on point. Our RF model achieves a testing \n",
    "accuracy at 95%, which is slightly better than our LR model. However, the FPR \n",
    "and FNR are comparable."
   ]
  },
  {
   "cell_type": "markdown",
   "metadata": {},
   "source": [
    "### Area Under the ROC Curve\n",
    "Since now we have a hold out testing set, we can explore other performace metrics.  One popular graphical tool to visualize performance for binary classificaition problems is the Receving-Operating Characteristic curve, or ROC, which graphs the False Positive Rate and False Negative Rate at different thresholds.\n",
    "\n",
    "A perfect model will has an area under the curve, AUC, of 1. Classifying by chance (flipping a coin) has a AUC of 0.5. Ideally, we want our ROC to hug the leftmost corner of the grid as much mas possible."
   ]
  },
  {
   "cell_type": "code",
   "execution_count": 14,
   "metadata": {},
   "outputs": [],
   "source": [
    "def get_ROC(y_test, probs):\n",
    "    auc = roc_auc_score(y_test, probs[:,1])\n",
    "    fpr, tpr, thresh = roc_curve(y_test, probs[:,1])\n",
    "    plt.plot([0,1],[0,1],linestyle='--')\n",
    "    print(\"AUC =\",auc)\n",
    "    plt.plot(fpr,tpr,marker='.')\n",
    "    return auc, fpr, tpr"
   ]
  },
  {
   "cell_type": "code",
   "execution_count": 15,
   "metadata": {},
   "outputs": [
    {
     "name": "stdout",
     "output_type": "stream",
     "text": [
      "AUC = 0.9859211381685291\n"
     ]
    },
    {
     "data": {
      "image/png": "[encoded data removed]",
      "text/plain": [
       "<Figure size 432x288 with 1 Axes>"
      ]
     },
     "metadata": {
      "needs_background": "light"
     },
     "output_type": "display_data"
    }
   ],
   "source": [
    "auc, fpr, tpr = get_ROC(y_test, test_y_prob)"
   ]
  },
  {
   "cell_type": "markdown",
   "metadata": {},
   "source": [
    "With an AUC of 0.98 , our model achieves near perfect classification rate\n",
    "on the test set. For other existing metrics, it appears that the RF model \n",
    "did slightly better at correctly identifying __spam__ vs. __non-spam__ than \n",
    "the LR model."
   ]
  },
  {
   "cell_type": "markdown",
   "metadata": {},
   "source": [
    "## SUPPORT VECTOR MACHINE\n",
    "Support Vector Machine technique identifies support vectors to best identify hyperplanes that separate/classify the data. In practice, SVM with linear kernel performs similarly to LR. So in this exercise, we will Random Search Cross-validation to identify the best paremeters, including which kernel to use."
   ]
  },
  {
   "cell_type": "code",
   "execution_count": 16,
   "metadata": {},
   "outputs": [],
   "source": [
    "from sklearn.svm import SVC\n",
    "from sklearn.model_selection import RandomizedSearchCV"
   ]
  },
  {
   "cell_type": "code",
   "execution_count": 17,
   "metadata": {},
   "outputs": [
    {
     "name": "stderr",
     "output_type": "stream",
     "text": [
      "/Users/AdrianTran/miniconda3/lib/python3.7/site-packages/sklearn/model_selection/_split.py:2053: FutureWarning: You should specify a value for 'cv' instead of relying on the default value. The default value will change from 3 to 5 in version 0.22.\n",
      "  warnings.warn(CV_WARNING, FutureWarning)\n"
     ]
    },
    {
     "data": {
      "text/plain": [
       "RandomizedSearchCV(cv='warn', error_score='raise-deprecating',\n",
       "          estimator=SVC(C=1.0, cache_size=200, class_weight=None, coef0=0.0,\n",
       "  decision_function_shape='ovr', degree=3, gamma='auto_deprecated',\n",
       "  kernel='rbf', max_iter=-1, probability=True, random_state=None,\n",
       "  shrinking=True, tol=0.001, verbose=False),\n",
       "          fit_params=None, iid='warn', n_iter=10, n_jobs=None,\n",
       "          param_distributions={'kernel': ['rbf', 'sigmoid'], 'gamma': [0.01, 0.001, 0.0001], 'C': [0.001, 0.1, 1, 10]},\n",
       "          pre_dispatch='2*n_jobs', random_state=None, refit=True,\n",
       "          return_train_score='warn', scoring=None, verbose=0)"
      ]
     },
     "execution_count": 17,
     "metadata": {},
     "output_type": "execute_result"
    }
   ],
   "source": [
    "svc = SVC(probability=True)\n",
    "params_svc = {'kernel': ['rbf','sigmoid'], 'gamma':[1e-2,1e-3,1e-4],\n",
    "              'C': [0.001,0.1,1,10]\n",
    "             }\n",
    "svm_rs  = RandomizedSearchCV(svc,params_svc)\n",
    "svm_rs.fit(x_train,y_train)"
   ]
  },
  {
   "cell_type": "code",
   "execution_count": 18,
   "metadata": {},
   "outputs": [
    {
     "data": {
      "text/plain": [
       "{'kernel': 'rbf', 'gamma': 0.01, 'C': 10}"
      ]
     },
     "execution_count": 18,
     "metadata": {},
     "output_type": "execute_result"
    }
   ],
   "source": [
    "svm_rs.best_params_"
   ]
  },
  {
   "cell_type": "code",
   "execution_count": 19,
   "metadata": {},
   "outputs": [],
   "source": [
    "train_y_pred = svm_rs.predict(x_train)\n",
    "test_y_pred = svm_rs.predict(x_test)\n",
    "test_y_prob = svm_rs.predict_proba(x_test)"
   ]
  },
  {
   "cell_type": "markdown",
   "metadata": {},
   "source": [
    "## Model Evaluation"
   ]
  },
  {
   "cell_type": "code",
   "execution_count": 20,
   "metadata": {},
   "outputs": [],
   "source": [
    "train_acc = round(rf_gs.score(x_train,y_train)*100,2)\n",
    "test_acc = round(rf_gs.score(x_test,y_test)*100,2)\n",
    "tn, fp, fn, tp = confusion_matrix(y_test, test_y_pred).ravel()"
   ]
  },
  {
   "cell_type": "code",
   "execution_count": 21,
   "metadata": {},
   "outputs": [
    {
     "name": "stdout",
     "output_type": "stream",
     "text": [
      "Training Accuracy is 99.88 %, Testing Accuracy is 95.73 %\n"
     ]
    }
   ],
   "source": [
    "print(\"Training Accuracy is {} %, Testing Accuracy is {} %\".format(train_acc,test_acc))"
   ]
  },
  {
   "cell_type": "code",
   "execution_count": 22,
   "metadata": {},
   "outputs": [
    {
     "name": "stdout",
     "output_type": "stream",
     "text": [
      "TN:725, FP:112, FN:67, TP:477\n",
      "FPR: 0.13, FNR: 0.12\n"
     ]
    }
   ],
   "source": [
    "print(\"TN:%s, FP:%s, FN:%s, TP:%s\" % (tn,fp,fn,tp))\n",
    "print(\"FPR: {}, FNR: {}\".format(round(fp/(fp+tn),2),round(fn/(fn+tp),2)))"
   ]
  },
  {
   "cell_type": "code",
   "execution_count": 23,
   "metadata": {},
   "outputs": [
    {
     "name": "stdout",
     "output_type": "stream",
     "text": [
      "              precision    recall  f1-score   support\n",
      "\n",
      "           0       0.92      0.87      0.89       837\n",
      "           1       0.81      0.88      0.84       544\n",
      "\n",
      "   micro avg       0.87      0.87      0.87      1381\n",
      "   macro avg       0.86      0.87      0.87      1381\n",
      "weighted avg       0.87      0.87      0.87      1381\n",
      "\n"
     ]
    }
   ],
   "source": [
    "print(classification_report(y_test, test_y_pred))"
   ]
  },
  {
   "cell_type": "code",
   "execution_count": 24,
   "metadata": {},
   "outputs": [
    {
     "name": "stdout",
     "output_type": "stream",
     "text": [
      "AUC = 0.9337312882142104\n"
     ]
    },
    {
     "data": {
      "image/png": "[encoded data removed]",
      "text/plain": [
       "<Figure size 432x288 with 1 Axes>"
      ]
     },
     "metadata": {
      "needs_background": "light"
     },
     "output_type": "display_data"
    }
   ],
   "source": [
    "auc, fpr, tpr = get_ROC(y_test, test_y_prob)"
   ]
  },
  {
   "cell_type": "markdown",
   "metadata": {},
   "source": [
    "With an [rfb] kernel, we see that the SVM model performs less well as comparing \n",
    "to the RF model. More significantly, this model does worse in terms of FPR than all other models. "
   ]
  },
  {
   "cell_type": "markdown",
   "metadata": {},
   "source": [
    "## FINAL REMARK"
   ]
  },
  {
   "cell_type": "markdown",
   "metadata": {},
   "source": [
    "Overall this dataset seems rather straight forward. This dataset is already processed and the number of features are sufficient to achieve a high-level materials of classification.  \n",
    "\n",
    "This fortunate fact is not entirely surprising, as the dataset measures the frequency of words typically associated with spams! \n",
    "\n",
    "From a technical persepctive, there are a few items of enhancement: \n",
    "* Combine cross-validation for both validation and testing. That is,\n",
    "we can split the set using k_fold, and at each fold for training, we can cross-validate on this subset even further.\n",
    "* Classification problem typically benefits from an ensemnle model, when each data point (email) is classified by the combined result of various models/techniques."
   ]
  },
  {
   "cell_type": "markdown",
   "metadata": {},
   "source": [
    "__****END OF MODULE****__"
   ]
  },
  {
   "cell_type": "code",
   "execution_count": null,
   "metadata": {},
   "outputs": [],
   "source": []
  }
 ],
 "metadata": {
  "kernelspec": {
   "display_name": "Python 3",
   "language": "python",
   "name": "python3"
  },
  "language_info": {
   "codemirror_mode": {
    "name": "ipython",
    "version": 3
   },
   "file_extension": ".py",
   "mimetype": "text/x-python",
   "name": "python",
   "nbconvert_exporter": "python",
   "pygments_lexer": "ipython3",
   "version": "3.7.2"
  },
  "varInspector": {
   "cols": {
    "lenName": 16,
    "lenType": 16,
    "lenVar": 40
   },
   "kernels_config": {
    "python": {
     "delete_cmd_postfix": "",
     "delete_cmd_prefix": "del ",
     "library": "var_list.py",
     "varRefreshCmd": "print(var_dic_list())"
    },
    "r": {
     "delete_cmd_postfix": ") ",
     "delete_cmd_prefix": "rm(",
     "library": "var_list.r",
     "varRefreshCmd": "cat(var_dic_list()) "
    }
   },
   "types_to_exclude": [
    "module",
    "function",
    "builtin_function_or_method",
    "instance",
    "_Feature"
   ],
   "window_display": false
  }
 },
 "nbformat": 4,
 "nbformat_minor": 2
}
